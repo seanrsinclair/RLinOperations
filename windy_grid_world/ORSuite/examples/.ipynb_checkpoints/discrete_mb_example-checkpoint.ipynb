{
 "cells": [
  {
   "cell_type": "markdown",
   "id": "071e2f24",
   "metadata": {},
   "source": [
    "# Discrete Model-Based Example Notebook"
   ]
  },
  {
   "cell_type": "code",
   "execution_count": 1,
   "id": "569a3e20",
   "metadata": {},
   "outputs": [],
   "source": [
    "import or_suite\n",
    "import numpy as np\n",
    "\n",
    "import copy\n",
    "\n",
    "import os\n",
    "from stable_baselines3.common.monitor import Monitor\n",
    "from stable_baselines3 import PPO\n",
    "from stable_baselines3.ppo import MlpPolicy\n",
    "from stable_baselines3.common.env_util import make_vec_env\n",
    "from stable_baselines3.common.evaluation import evaluate_policy\n",
    "import pandas as pd\n",
    "\n",
    "\n",
    "import gym"
   ]
  },
  {
   "cell_type": "code",
   "execution_count": 2,
   "id": "d3815a6d",
   "metadata": {},
   "outputs": [],
   "source": [
    "# Getting out configuration parameter for the environment\n",
    "CONFIG =  or_suite.envs.env_configs.ambulance_graph_default_config\n",
    "\n",
    "\n",
    "# Specifying training iteration, epLen, number of episodes, and number of iterations\n",
    "epLen = CONFIG['epLen']\n",
    "nEps = 1000\n",
    "numIters = 20\n",
    "\n",
    "\n",
    "scaling_list = [0.01, .1, 1, 10]\n",
    "\n",
    "\n",
    "# Configuration parameters for running the experiment\n",
    "DEFAULT_SETTINGS = {'seed': 1, \n",
    "                    'recFreq': 1, \n",
    "                    'dirPath': '../data/ambulance/', \n",
    "                    'deBug': False, \n",
    "                    'nEps': nEps, \n",
    "                    'numIters': numIters, \n",
    "                    'saveTrajectory': True, # save trajectory for calculating additional metrics\n",
    "                    'epLen' : 5,\n",
    "                    'render': False,\n",
    "                    'pickle': False # indicator for pickling final information\n",
    "                    }\n",
    "\n",
    "\n",
    "alpha = CONFIG['alpha']\n",
    "num_ambulance = CONFIG['num_ambulance']\n",
    "\n",
    "ambulance_env = gym.make('Ambulance-v1', config=CONFIG)\n",
    "mon_env = Monitor(ambulance_env)\n",
    "\n",
    "state_space = ambulance_env.observation_space\n",
    "action_space = ambulance_env.action_space\n",
    "# #print(state_space)\n",
    "# #print(action_space)\n",
    "#print(state_space.nvec)\n",
    "# test = [2]\n",
    "# print(np.append(test, (state_space.nvec,action_space.nvec)))\n",
    "\n"
   ]
  },
  {
   "cell_type": "code",
   "execution_count": 3,
   "id": "0bd542f5",
   "metadata": {},
   "outputs": [
    {
     "name": "stdout",
     "output_type": "stream",
     "text": [
      "State space size: [5 5]\n",
      "Action space size: [5 5]\n"
     ]
    }
   ],
   "source": [
    "agents = { #action_space, state_space, epLen, scaling, alpha, flag\n",
    "'Stable': or_suite.agents.ambulance.stable.stableAgent(CONFIG['epLen']),\n",
    "'DiscreteMB': or_suite.agents.rl.discrete_mb.DiscreteMB(action_space, state_space, epLen, scaling_list[0], 0, False),\n",
    "'DiscreteQL' : or_suite.agents.rl.discrete_ql.DiscreteQl(action_space, state_space, epLen, scaling_list[0])}"
   ]
  },
  {
   "cell_type": "code",
   "execution_count": 4,
   "id": "e1240ec1",
   "metadata": {},
   "outputs": [
    {
     "name": "stdout",
     "output_type": "stream",
     "text": [
      "Stable\n",
      "Writing to file data.csv\n",
      "DiscreteMB\n",
      "Tuning parameter: 0.01\n",
      "Tuning parameter: 0.1\n",
      "Tuning parameter: 1\n",
      "Tuning parameter: 10\n",
      "Chosen parameters: 1\n",
      "Writing to file data.csv\n",
      "1\n",
      "DiscreteQL\n",
      "Tuning parameter: 0.01\n",
      "Tuning parameter: 0.1\n",
      "Tuning parameter: 1\n",
      "Tuning parameter: 10\n",
      "Chosen parameters: 0.1\n",
      "Writing to file data.csv\n",
      "0.1\n",
      "    Algorithm  Reward      Time   Space\n",
      "0      Stable -4.8750  7.531284 -3659.0\n",
      "1  DiscreteMB -7.2750  4.489595 -5094.2\n",
      "2  DiscreteQL -6.0875  6.396564 -4962.2\n"
     ]
    }
   ],
   "source": [
    "path_list_line = []\n",
    "algo_list_line = []\n",
    "path_list_radar = []\n",
    "algo_list_radar= []\n",
    "for agent in agents:\n",
    "    print(agent)\n",
    "    DEFAULT_SETTINGS['dirPath'] = '../data/ambulance_metric_'+str(agent)+'_'+str(num_ambulance)+'_'+str(alpha)+'/'\n",
    "    if agent == 'SB PPO':\n",
    "        or_suite.utils.run_single_sb_algo(mon_env, agents[agent], DEFAULT_SETTINGS)\n",
    "    elif agent == 'DiscreteQL':\n",
    "        or_suite.utils.run_single_algo_tune(ambulance_env,agents[agent], scaling_list, DEFAULT_SETTINGS)\n",
    "    elif agent == 'DiscreteQL':\n",
    "        or_suite.utils.run_single_algo_tune(ambulance_env,agents[agent], scaling_list, DEFAULT_SETTINGS)\n",
    "    elif agent == 'AdaQL' or agent == 'Unif QL' or agent == 'AdaMB' or agent == 'Unif MB'or agent == 'DiscreteMB':\n",
    "        or_suite.utils.run_single_algo_tune(ambulance_env, agents[agent], scaling_list, DEFAULT_SETTINGS)\n",
    "    else:\n",
    "        or_suite.utils.run_single_algo(ambulance_env, agents[agent], DEFAULT_SETTINGS)\n",
    "\n",
    "    path_list_line.append('../data/ambulance_metric_'+str(agent)+'_'+str(num_ambulance)+'_'+str(alpha))\n",
    "    algo_list_line.append(str(agent))\n",
    "    if agent != 'SB PPO':\n",
    "        path_list_radar.append('../data/ambulance_metric_'+str(agent)+'_'+str(num_ambulance)+'_'+str(alpha))\n",
    "        algo_list_radar.append(str(agent))\n",
    "fig_path = '../figures/'\n",
    "fig_name = 'ambulance_metric'+'_'+str(num_ambulance)+'_'+str(alpha)+'_line_plot'+'.pdf'\n",
    "or_suite.plots.plot_line_plots(path_list_line, algo_list_line, fig_path, fig_name, int(nEps / 40)+1)\n",
    "\n",
    "additional_metric = {}\n",
    "fig_name = 'ambulance_metric'+'_'+str(num_ambulance)+'_'+str(alpha)+'_radar_plot'+'.pdf'\n",
    "or_suite.plots.plot_radar_plots(path_list_radar, algo_list_radar,\n",
    "fig_path, fig_name,\n",
    "additional_metric\n",
    ")\n"
   ]
  },
  {
   "cell_type": "code",
   "execution_count": 5,
   "id": "5d60f8d2",
   "metadata": {},
   "outputs": [
    {
     "data": {
      "text/html": [
       "\n",
       "        <iframe\n",
       "            width=\"600\"\n",
       "            height=\"500\"\n",
       "            src=\"../figures/ambulance_metric_2_0.25_line_plot.pdf\"\n",
       "            frameborder=\"0\"\n",
       "            allowfullscreen\n",
       "            \n",
       "        ></iframe>\n",
       "        "
      ],
      "text/plain": [
       "<IPython.lib.display.IFrame at 0x7f587786fee0>"
      ]
     },
     "execution_count": 5,
     "metadata": {},
     "output_type": "execute_result"
    }
   ],
   "source": [
    "from IPython.display import IFrame\n",
    "IFrame(\"../figures/ambulance_metric_2_0.25_line_plot.pdf\", width=600, height=500)"
   ]
  }
 ],
 "metadata": {
  "kernelspec": {
   "display_name": "Python 3 (ipykernel)",
   "language": "python",
   "name": "python3"
  },
  "language_info": {
   "codemirror_mode": {
    "name": "ipython",
    "version": 3
   },
   "file_extension": ".py",
   "mimetype": "text/x-python",
   "name": "python",
   "nbconvert_exporter": "python",
   "pygments_lexer": "ipython3",
   "version": "3.8.5"
  }
 },
 "nbformat": 4,
 "nbformat_minor": 5
}
