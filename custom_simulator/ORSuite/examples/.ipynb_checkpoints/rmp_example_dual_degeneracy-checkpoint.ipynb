{
 "cells": [
  {
   "cell_type": "code",
   "execution_count": 1,
   "id": "a53120e9",
   "metadata": {},
   "outputs": [],
   "source": [
    "import or_suite\n",
    "import numpy as np\n",
    "\n",
    "import copy\n",
    "\n",
    "import os\n",
    "from stable_baselines3.common.monitor import Monitor\n",
    "from stable_baselines3 import PPO\n",
    "from stable_baselines3.ppo import MlpPolicy\n",
    "from stable_baselines3.common.env_util import make_vec_env\n",
    "from stable_baselines3.common.evaluation import evaluate_policy\n",
    "import pandas as pd\n",
    "\n",
    "\n",
    "import gym"
   ]
  },
  {
   "cell_type": "code",
   "execution_count": 2,
   "id": "54b54ef1",
   "metadata": {},
   "outputs": [],
   "source": [
    "CONFIG =  or_suite.envs.env_configs.airline_default_config\n",
    "\n",
    "epLen = CONFIG['epLen']\n",
    "nEps = 1\n",
    "numIters = 100"
   ]
  },
  {
   "cell_type": "code",
   "execution_count": 3,
   "id": "8d0dae65",
   "metadata": {},
   "outputs": [],
   "source": [
    "import numpy as np\n",
    "import sys\n",
    "import cvxpy as cp"
   ]
  },
  {
   "cell_type": "code",
   "execution_count": 5,
   "id": "a821893c",
   "metadata": {},
   "outputs": [],
   "source": [
    "\n",
    "            # gets the expected number of customer arrivals\n"
   ]
  },
  {
   "cell_type": "code",
   "execution_count": 4,
   "id": "44814c66",
   "metadata": {},
   "outputs": [
    {
     "name": "stdout",
     "output_type": "stream",
     "text": [
      "[2.75 2.25]\n"
     ]
    }
   ],
   "source": [
    "p = .45\n",
    "CONFIG['P'] = np.asarray([[1-p, p],[1-p,p],[1-p,p],[1-p,p],[1-p,p]])\n",
    "num_type = len(CONFIG['f'])\n",
    "expect_type = np.sum(CONFIG['P'][0:,:],axis=0)\n",
    "print(expect_type)"
   ]
  },
  {
   "cell_type": "code",
   "execution_count": 70,
   "id": "4a32f06d",
   "metadata": {},
   "outputs": [],
   "source": [
    "x = cp.Variable(num_type)\n",
    "objective = cp.Maximize(CONFIG['f'].T @ x)\n",
    "constraints = []\n",
    "constraints += [0 <= x]\n",
    "constraints += [x <= expect_type]\n",
    "\n",
    "constraints += [CONFIG['A'] @ x <= CONFIG['starting_state']]\n",
    "\n",
    "prob = cp.Problem(objective, constraints)"
   ]
  },
  {
   "cell_type": "code",
   "execution_count": 71,
   "id": "f806f454",
   "metadata": {},
   "outputs": [
    {
     "name": "stdout",
     "output_type": "stream",
     "text": [
      "[4.18104044e-09 2.22222222e+00]\n"
     ]
    }
   ],
   "source": [
    "prob.solve()\n",
    "print(x.value)"
   ]
  }
 ],
 "metadata": {
  "kernelspec": {
   "display_name": "Python 3 (ipykernel)",
   "language": "python",
   "name": "python3"
  },
  "language_info": {
   "codemirror_mode": {
    "name": "ipython",
    "version": 3
   },
   "file_extension": ".py",
   "mimetype": "text/x-python",
   "name": "python",
   "nbconvert_exporter": "python",
   "pygments_lexer": "ipython3",
   "version": "3.7.11"
  }
 },
 "nbformat": 4,
 "nbformat_minor": 5
}
