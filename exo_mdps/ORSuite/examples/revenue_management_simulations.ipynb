{
 "cells": [
  {
   "cell_type": "markdown",
   "id": "6bb87f4c",
   "metadata": {},
   "source": [
    "# Revenue Management Simulations\n",
    "\n",
    "In this notebook we will run some simulations to compare the algorithms you developed with the Bayes Selector to PPO and standard Q learning."
   ]
  },
  {
   "cell_type": "markdown",
   "id": "13c274f0",
   "metadata": {},
   "source": [
    "### Package Installation"
   ]
  },
  {
   "cell_type": "code",
   "execution_count": 1,
   "id": "8403b67b",
   "metadata": {},
   "outputs": [],
   "source": [
    "import or_suite\n",
    "import numpy as np\n",
    "\n",
    "import copy\n",
    "\n",
    "import os\n",
    "from stable_baselines3.common.monitor import Monitor\n",
    "from stable_baselines3 import PPO\n",
    "from stable_baselines3.ppo import MlpPolicy\n",
    "from stable_baselines3.common.env_util import make_vec_env\n",
    "from stable_baselines3.common.evaluation import evaluate_policy\n",
    "import pandas as pd\n",
    "\n",
    "\n",
    "import gym"
   ]
  },
  {
   "cell_type": "markdown",
   "id": "2cd6f3a4",
   "metadata": {},
   "source": [
    "### Test 1\n",
    "\n",
    "We start off by doing a small scale simulation on a problem with three resources, two customer types, and a horizon of four.  This allows us to test out Q-Learning based approaches without dealing with issues around scale."
   ]
  },
  {
   "cell_type": "code",
   "execution_count": 2,
   "id": "e23629db",
   "metadata": {},
   "outputs": [],
   "source": [
    "CONFIG =  or_suite.envs.env_configs.airline_default_config\n",
    "\n",
    "epLen = CONFIG['epLen']"
   ]
  },
  {
   "cell_type": "code",
   "execution_count": 3,
   "id": "f388110a",
   "metadata": {},
   "outputs": [
    {
     "name": "stdout",
     "output_type": "stream",
     "text": [
      "{'epLen': 4, 'f': array([1., 2.]), 'A': array([[2., 3.],\n",
      "       [3., 0.],\n",
      "       [2., 1.]]), 'starting_state': array([6.66666667, 4.        , 4.        ]), 'P': array([[0.33333333, 0.33333333],\n",
      "       [0.33333333, 0.33333333],\n",
      "       [0.33333333, 0.33333333],\n",
      "       [0.33333333, 0.33333333],\n",
      "       [0.33333333, 0.33333333]])}\n"
     ]
    }
   ],
   "source": [
    "print(CONFIG)"
   ]
  },
  {
   "cell_type": "markdown",
   "id": "24d4a9cc",
   "metadata": {},
   "source": [
    "Here we see the different rewards, resource consumption, starting state, and arrival distribution being uniform.\n",
    "\n",
    "Next up - we generate a list of historical traces according to the distribution."
   ]
  },
  {
   "cell_type": "code",
   "execution_count": 4,
   "id": "0c516324",
   "metadata": {},
   "outputs": [
    {
     "name": "stdout",
     "output_type": "stream",
     "text": [
      "[(0, 2), (1, 2), (2, 1), (3, 0), (0, 1), (1, 0), (2, 0), (3, 0), (0, 2), (1, 0), (2, 2), (3, 0), (0, 1), (1, 1), (2, 1), (3, 1), (0, 2), (1, 1), (2, 2), (3, 2), (0, 0), (1, 2), (2, 2), (3, 2), (0, 2), (1, 1), (2, 0), (3, 0), (0, 0), (1, 1), (2, 1), (3, 0), (0, 1), (1, 2), (2, 0), (3, 1), (0, 1), (1, 1), (2, 2), (3, 0), (0, 1), (1, 1), (2, 1), (3, 0), (0, 2), (1, 1), (2, 0), (3, 1), (0, 2), (1, 2), (2, 1), (3, 1), (0, 1), (1, 1), (2, 0), (3, 2), (0, 0), (1, 2), (2, 1), (3, 0), (0, 1), (1, 0), (2, 1), (3, 2), (0, 1), (1, 1), (2, 0), (3, 0), (0, 2), (1, 0), (2, 1), (3, 2), (0, 1), (1, 2), (2, 2), (3, 0), (0, 2), (1, 0), (2, 2), (3, 2), (0, 2), (1, 0), (2, 1), (3, 2), (0, 0), (1, 1), (2, 0), (3, 1), (0, 1), (1, 2), (2, 1), (3, 1), (0, 1), (1, 2), (2, 0), (3, 0), (0, 2), (1, 2), (2, 1), (3, 2), (0, 1), (1, 2), (2, 0), (3, 1), (0, 2), (1, 0), (2, 2), (3, 1), (0, 1), (1, 2), (2, 1), (3, 0), (0, 0), (1, 1), (2, 1), (3, 1), (0, 2), (1, 1), (2, 2), (3, 2), (0, 0), (1, 0), (2, 0), (3, 2), (0, 2), (1, 0), (2, 1), (3, 1), (0, 2), (1, 2), (2, 2), (3, 1), (0, 2), (1, 2), (2, 1), (3, 0), (0, 2), (1, 0), (2, 1), (3, 0), (0, 2), (1, 1), (2, 1), (3, 2), (0, 1), (1, 0), (2, 1), (3, 2), (0, 0), (1, 2), (2, 1), (3, 2), (0, 2), (1, 2), (2, 0), (3, 2), (0, 1), (1, 0), (2, 2), (3, 0), (0, 0), (1, 2), (2, 1), (3, 2), (0, 2), (1, 1), (2, 0), (3, 1), (0, 1), (1, 0), (2, 2), (3, 1), (0, 1), (1, 2), (2, 1), (3, 2), (0, 0), (1, 2), (2, 1), (3, 2), (0, 1), (1, 2), (2, 1), (3, 0), (0, 0), (1, 1), (2, 2), (3, 0), (0, 0), (1, 2), (2, 0), (3, 2), (0, 0), (1, 2), (2, 1), (3, 2), (0, 2), (1, 1), (2, 1), (3, 2)]\n"
     ]
    }
   ],
   "source": [
    "num_traces = 50\n",
    "dataset = []\n",
    "for _ in range(num_traces): # samples traces\n",
    "    for timestep in range(CONFIG['epLen']): # each of length of the time horizon\n",
    "        # samples a customer type according to that step's distribution\n",
    "        pDist = np.append(np.copy(CONFIG['P'][timestep, :]), 1 - np.sum(CONFIG['P'][timestep, :]))\n",
    "\n",
    "        dataset.append((timestep, np.random.choice(a = CONFIG['A'].shape[1]+1, p = pDist)))\n",
    "print(dataset)"
   ]
  },
  {
   "cell_type": "code",
   "execution_count": null,
   "id": "d0bcf0b3",
   "metadata": {},
   "outputs": [],
   "source": []
  },
  {
   "cell_type": "code",
   "execution_count": 5,
   "id": "0a3ec2fc",
   "metadata": {},
   "outputs": [],
   "source": [
    "nEps = 500\n",
    "numIters = 50\n",
    "\n",
    "DEFAULT_SETTINGS = {'seed': 1, \n",
    "                    'recFreq': 1, \n",
    "                    'dirPath': '../data/', \n",
    "                    'deBug': False, \n",
    "                    'nEps': nEps, \n",
    "                    'numIters': numIters, \n",
    "                    'saveTrajectory': True, \n",
    "                    'epLen' : epLen,\n",
    "                    'render': False,\n",
    "                    'pickle': False\n",
    "                    }\n",
    "\n",
    "\n",
    "revenue_env = gym.make('Airline-v0', config=CONFIG)\n",
    "mon_env = Monitor(revenue_env)"
   ]
  },
  {
   "cell_type": "markdown",
   "id": "cbdd3e9e",
   "metadata": {},
   "source": [
    "### Specifying Agent\n",
    "\n",
    "We specify 4 agents to compare effectiveness of each:\n",
    "\n",
    "* `SB PPO`\n",
    "* `Random`\n",
    "* `BayesSelector`\n",
    "* `BayesSelectorTraces`"
   ]
  },
  {
   "cell_type": "code",
   "execution_count": 6,
   "id": "4c431f4c",
   "metadata": {},
   "outputs": [],
   "source": [
    "agents = { # 'SB PPO': PPO(MlpPolicy, mon_env, gamma=1, verbose=0, n_steps=epLen),\n",
    "'Random': or_suite.agents.rl.random.randomAgent(),\n",
    "'BayesSelector': or_suite.agents.airline_revenue_management.bayes_selector.bayes_selectorAgent(epLen, round_flag=True),\n",
    "'BayesSelectorTraces': or_suite.agents.airline_revenue_management.bayes_selector_traces.bayes_selector_tracesAgent(epLen, round_flag=True, dataset = dataset),\n",
    "}"
   ]
  },
  {
   "cell_type": "code",
   "execution_count": null,
   "id": "b82f07bf",
   "metadata": {},
   "outputs": [],
   "source": []
  },
  {
   "cell_type": "markdown",
   "id": "51e6182d",
   "metadata": {},
   "source": [
    "Next we run up the experiments."
   ]
  },
  {
   "cell_type": "code",
   "execution_count": 7,
   "id": "fee56bc7",
   "metadata": {
    "scrolled": true
   },
   "outputs": [
    {
     "name": "stdout",
     "output_type": "stream",
     "text": [
      "Random\n",
      "Writing to file data.csv\n",
      "BayesSelector\n",
      "Writing to file data.csv\n",
      "BayesSelectorTraces\n",
      "Writing to file data.csv\n"
     ]
    }
   ],
   "source": [
    "path_list_line = []\n",
    "algo_list_line = []\n",
    "path_list_radar = []\n",
    "algo_list_radar= []\n",
    "for agent in agents:\n",
    "    print(agent)\n",
    "    DEFAULT_SETTINGS['dirPath'] = '../data/airline_'+str(agent)\n",
    "    if agent == 'SB PPO':\n",
    "        or_suite.utils.run_single_sb_algo(mon_env, agents[agent], DEFAULT_SETTINGS)\n",
    "    else:\n",
    "        or_suite.utils.run_single_algo(revenue_env, agents[agent], DEFAULT_SETTINGS)\n",
    "\n",
    "    path_list_line.append('../data/airline_'+str(agent))\n",
    "    algo_list_line.append(str(agent))\n",
    "    path_list_radar.append('../data/airline_'+str(agent))\n",
    "    algo_list_radar.append(str(agent))"
   ]
  },
  {
   "cell_type": "code",
   "execution_count": 8,
   "id": "b75d4360",
   "metadata": {},
   "outputs": [],
   "source": [
    "fig_path = '../figures/'\n",
    "fig_name = 'revenue'+'_line_plot'+'.pdf'\n",
    "or_suite.plots.plot_line_plots(path_list_line, algo_list_line, fig_path, fig_name, int(nEps / 40)+1)"
   ]
  },
  {
   "cell_type": "code",
   "execution_count": 9,
   "id": "9317108d",
   "metadata": {
    "scrolled": true
   },
   "outputs": [
    {
     "data": {
      "text/html": [
       "\n",
       "        <iframe\n",
       "            width=\"600\"\n",
       "            height=\"280\"\n",
       "            src=\"../figures/revenue_line_plot.pdf\"\n",
       "            frameborder=\"0\"\n",
       "            allowfullscreen\n",
       "            \n",
       "        ></iframe>\n",
       "        "
      ],
      "text/plain": [
       "<IPython.lib.display.IFrame at 0x7f4f1853df10>"
      ]
     },
     "execution_count": 9,
     "metadata": {},
     "output_type": "execute_result"
    }
   ],
   "source": [
    "from IPython.display import IFrame\n",
    "IFrame(\"../figures/revenue_line_plot.pdf\", width=600, height=280)"
   ]
  }
 ],
 "metadata": {
  "kernelspec": {
   "display_name": "Python 3 (ipykernel)",
   "language": "python",
   "name": "python3"
  },
  "language_info": {
   "codemirror_mode": {
    "name": "ipython",
    "version": 3
   },
   "file_extension": ".py",
   "mimetype": "text/x-python",
   "name": "python",
   "nbconvert_exporter": "python",
   "pygments_lexer": "ipython3",
   "version": "3.8.5"
  }
 },
 "nbformat": 4,
 "nbformat_minor": 5
}
